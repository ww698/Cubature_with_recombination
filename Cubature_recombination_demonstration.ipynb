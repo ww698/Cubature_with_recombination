{
 "cells": [
  {
   "cell_type": "markdown",
   "id": "55dda6da-2ffc-49bb-909f-20f6185e214a",
   "metadata": {},
   "source": [
    "# Aim: \n",
    "To reduce product formula in arbitrary dimension d to get a degree n cubature formula. We will create formulae for calculating moments of multivariate normal (Gauss-Hermite cubature) and multivariate uniform (Gauss-Legendre cubature) distributions."
   ]
  },
  {
   "cell_type": "code",
   "execution_count": null,
   "id": "7d7f2c9f-c421-43fe-8e53-8e9d8f3af350",
   "metadata": {},
   "outputs": [],
   "source": []
  }
 ],
 "metadata": {
  "kernelspec": {
   "display_name": "Python 3 (ipykernel)",
   "language": "python",
   "name": "python3"
  },
  "language_info": {
   "codemirror_mode": {
    "name": "ipython",
    "version": 3
   },
   "file_extension": ".py",
   "mimetype": "text/x-python",
   "name": "python",
   "nbconvert_exporter": "python",
   "pygments_lexer": "ipython3",
   "version": "3.12.5"
  }
 },
 "nbformat": 4,
 "nbformat_minor": 5
}
